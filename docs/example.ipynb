{
 "cells": [
  {
   "cell_type": "markdown",
   "id": "85252ea1",
   "metadata": {},
   "source": [
    "# Usage"
   ]
  },
  {
   "cell_type": "markdown",
   "id": "d2a49055",
   "metadata": {},
   "source": [
    "`TagStr` class has\n",
    "\n",
    "- bold()\n",
    "- dim()\n",
    "- italic()\n",
    "- underline()\n",
    "- blink()\n",
    "- blinkrapid()\n",
    "- invert()\n",
    "- hide()\n",
    "- strike()\n",
    "- color()\n",
    "\n",
    "methods to add tags to strings.\n",
    "\n",
    "Some tags may not be displayed as intended, depending on the python output environment.\n",
    "For example, blink functions well in the terminal, but does not appear properly in the Jupyter Notebook.\n",
    "\n",
    "The basic usage is creating an instance and applying each method."
   ]
  },
  {
   "cell_type": "code",
   "execution_count": 1,
   "id": "3cd1e92d",
   "metadata": {},
   "outputs": [],
   "source": [
    "from tagstr.tagstr import TagStr"
   ]
  },
  {
   "cell_type": "code",
   "execution_count": 2,
   "id": "05d77bc4",
   "metadata": {},
   "outputs": [
    {
     "data": {
      "text/plain": [
       "\u001b[4munderline\u001b[24m"
      ]
     },
     "execution_count": 2,
     "metadata": {},
     "output_type": "execute_result"
    }
   ],
   "source": [
    "underline_dstr = TagStr('underline').underline()\n",
    "underline_dstr"
   ]
  },
  {
   "cell_type": "code",
   "execution_count": 3,
   "id": "a2868801",
   "metadata": {},
   "outputs": [
    {
     "name": "stdout",
     "output_type": "stream",
     "text": [
      "\u001b[31mapple\u001b[39m\n",
      "\u001b[33mbanana\u001b[39m\n",
      "\u001b[32mcucumber\u001b[39m\n"
     ]
    }
   ],
   "source": [
    "apple = TagStr('apple').color('red')\n",
    "banana = TagStr('banana').color('yellow')\n",
    "cucumber = TagStr('cucumber').color('green')\n",
    "\n",
    "print(apple)\n",
    "print(banana)\n",
    "print(cucumber)"
   ]
  },
  {
   "cell_type": "markdown",
   "id": "4e47686d",
   "metadata": {},
   "source": [
    "TagStr object can concat with str objects."
   ]
  },
  {
   "cell_type": "code",
   "execution_count": 4,
   "id": "750a209a",
   "metadata": {},
   "outputs": [
    {
     "data": {
      "text/plain": [
       "\u001b[31mapple\u001b[39m and \u001b[33mbanana\u001b[39m and \u001b[32mcucumber\u001b[39m"
      ]
     },
     "execution_count": 4,
     "metadata": {},
     "output_type": "execute_result"
    }
   ],
   "source": [
    "apple + ' and ' + f'{banana} and {cucumber}'"
   ]
  },
  {
   "cell_type": "markdown",
   "id": "665da3a4",
   "metadata": {},
   "source": [
    "Multiple methods can be applied."
   ]
  },
  {
   "cell_type": "code",
   "execution_count": 5,
   "id": "7225b2e4",
   "metadata": {},
   "outputs": [
    {
     "data": {
      "text/plain": [
       "\u001b[4m\u001b[31mapple\u001b[39m\u001b[24m and \u001b[7m\u001b[1m\u001b[33mbanana\u001b[39m\u001b[21m\u001b[32mcucumber\u001b[39m\u001b[27m"
      ]
     },
     "execution_count": 5,
     "metadata": {},
     "output_type": "execute_result"
    }
   ],
   "source": [
    "apple.underline() + ' and ' + (banana.bold() +  cucumber).invert()"
   ]
  }
 ],
 "metadata": {
  "kernelspec": {
   "display_name": "Python 3",
   "language": "python",
   "name": "python3"
  },
  "language_info": {
   "codemirror_mode": {
    "name": "ipython",
    "version": 3
   },
   "file_extension": ".py",
   "mimetype": "text/x-python",
   "name": "python",
   "nbconvert_exporter": "python",
   "pygments_lexer": "ipython3",
   "version": "3.8.3"
  }
 },
 "nbformat": 4,
 "nbformat_minor": 5
}
